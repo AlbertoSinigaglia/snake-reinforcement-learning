{
 "cells": [
  {
   "cell_type": "markdown",
   "metadata": {
    "pycharm": {
     "name": "#%% md\n"
    }
   },
   "source": [
    "# Snake"
   ]
  },
  {
   "cell_type": "markdown",
   "source": [
    "Same but using eligibility trace for the gradient"
   ],
   "metadata": {
    "collapsed": false,
    "pycharm": {
     "name": "#%% md\n"
    }
   }
  },
  {
   "cell_type": "code",
   "execution_count": 237,
   "metadata": {
    "collapsed": true,
    "pycharm": {
     "name": "#%%\n"
    }
   },
   "outputs": [],
   "source": [
    "from helpers import re_normalize_possible_actions\n",
    "from environments import *\n",
    "import tensorflow as tf\n",
    "from datetime import datetime\n",
    "import numpy as np\n",
    "from  tqdm import trange\n",
    "import matplotlib.pyplot as plt"
   ]
  },
  {
   "cell_type": "markdown",
   "metadata": {
    "pycharm": {
     "name": "#%% md\n"
    }
   },
   "source": [
    "## Environment definition"
   ]
  },
  {
   "cell_type": "code",
   "execution_count": 224,
   "outputs": [],
   "source": [
    "BOARD_SIZE=5"
   ],
   "metadata": {
    "collapsed": false,
    "pycharm": {
     "name": "#%%\n"
    }
   }
  },
  {
   "cell_type": "code",
   "execution_count": 238,
   "outputs": [],
   "source": [
    "def get_models():\n",
    "    # region models\n",
    "    input = K.layers.Input(shape=(BOARD_SIZE, BOARD_SIZE, 3))\n",
    "    x = K.layers.Conv2D(64, (3, 3), padding=\"SAME\", activation=\"linear\", use_bias=False)(input)\n",
    "    x = K.layers.BatchNormalization()(x)\n",
    "    x = K.layers.Activation(tf.nn.leaky_relu)(x)\n",
    "\n",
    "    x = K.layers.Conv2D(64, (3, 3), padding=\"SAME\", activation=\"linear\", use_bias=False)(x)\n",
    "    x = K.layers.BatchNormalization()(x)\n",
    "    x = K.layers.Activation(tf.nn.leaky_relu)(x)\n",
    "\n",
    "    x = K.layers.Conv2D(64, (3, 3), padding=\"SAME\", activation=\"linear\", use_bias=False)(x)\n",
    "    x = K.layers.BatchNormalization()(x)\n",
    "    x = K.layers.Activation(tf.nn.leaky_relu)(x)\n",
    "\n",
    "    x = K.layers.MaxPool2D(2)(x)\n",
    "\n",
    "    x = K.layers.Conv2D(64, (2, 2), padding=\"SAME\", activation=\"linear\", use_bias=False)(x)\n",
    "    x = K.layers.BatchNormalization()(x)\n",
    "    x = K.layers.Activation(tf.nn.leaky_relu)(x)\n",
    "\n",
    "    x = K.layers.Conv2D(64, (2, 2), padding=\"SAME\", activation=\"linear\", use_bias=False)(x)\n",
    "    x = K.layers.BatchNormalization()(x)\n",
    "    x = K.layers.Activation(tf.nn.leaky_relu)(x)\n",
    "\n",
    "    x = K.layers.Conv2D(8, (2, 2), padding=\"SAME\", activation=\"linear\", use_bias=False)(x)\n",
    "    x = K.layers.BatchNormalization()(x)\n",
    "    x = K.layers.Activation(tf.nn.leaky_relu)(x)\n",
    "\n",
    "    x = K.layers.GlobalAvgPool2D()(x)\n",
    "\n",
    "    policy = K.layers.Dense(64, activation=tf.nn.leaky_relu)(x)\n",
    "    policy = K.layers.Dense(64, activation=tf.nn.leaky_relu)(policy)\n",
    "    policy = K.layers.Dense(4, activation=tf.nn.softmax)(policy)\n",
    "    agent = K.models.Model(inputs=input, outputs=policy)\n",
    "\n",
    "\n",
    "\n",
    "\n",
    "    input = K.layers.Input(shape=(BOARD_SIZE, BOARD_SIZE, 3))\n",
    "    x = K.layers.Conv2D(64, (3, 3), padding=\"SAME\", activation=\"linear\", use_bias=False)(input)\n",
    "    x = K.layers.BatchNormalization()(x)\n",
    "    x = K.layers.Activation(tf.nn.leaky_relu)(x)\n",
    "\n",
    "    x = K.layers.Conv2D(64, (3, 3), padding=\"SAME\", activation=\"linear\", use_bias=False)(x)\n",
    "    x = K.layers.BatchNormalization()(x)\n",
    "    x = K.layers.Activation(tf.nn.leaky_relu)(x)\n",
    "\n",
    "    x = K.layers.Conv2D(64, (3, 3), padding=\"SAME\", activation=\"linear\", use_bias=False)(x)\n",
    "    x = K.layers.BatchNormalization()(x)\n",
    "    x = K.layers.Activation(tf.nn.leaky_relu)(x)\n",
    "\n",
    "    x = K.layers.MaxPool2D(2)(x)\n",
    "\n",
    "    x = K.layers.Conv2D(64, (2, 2), padding=\"SAME\", activation=\"linear\", use_bias=False)(x)\n",
    "    x = K.layers.BatchNormalization()(x)\n",
    "    x = K.layers.Activation(tf.nn.leaky_relu)(x)\n",
    "\n",
    "    x = K.layers.Conv2D(64, (2, 2), padding=\"SAME\", activation=\"linear\", use_bias=False)(x)\n",
    "    x = K.layers.BatchNormalization()(x)\n",
    "    x = K.layers.Activation(tf.nn.leaky_relu)(x)\n",
    "\n",
    "    x = K.layers.Conv2D(8, (2, 2), padding=\"SAME\", activation=\"linear\", use_bias=False)(x)\n",
    "    x = K.layers.BatchNormalization()(x)\n",
    "    x = K.layers.Activation(tf.nn.leaky_relu)(x)\n",
    "\n",
    "    x = K.layers.GlobalAvgPool2D()(x)\n",
    "\n",
    "    vf = K.layers.Dense(64, activation=tf.nn.leaky_relu)(x)\n",
    "    vf = K.layers.Dense(64, activation=tf.nn.leaky_relu)(vf)\n",
    "    vf = K.layers.Dense(1, activation=\"linear\")(vf)\n",
    "    value = K.models.Model(inputs=input, outputs=vf)\n",
    "    return agent, value"
   ],
   "metadata": {
    "collapsed": false,
    "pycharm": {
     "name": "#%%\n"
    }
   }
  },
  {
   "cell_type": "code",
   "execution_count": 226,
   "outputs": [],
   "source": [
    "LAMBDA_AGENT = 0.5\n",
    "LAMBDA_VALUE = 0.5"
   ],
   "metadata": {
    "collapsed": false,
    "pycharm": {
     "name": "#%%\n"
    }
   }
  },
  {
   "cell_type": "code",
   "execution_count": 197,
   "outputs": [
    {
     "name": "stdout",
     "output_type": "stream",
     "text": [
      "loaded\n"
     ]
    }
   ],
   "source": [
    "try:\n",
    "    last_model_trained = sorted([\n",
    "        f.path for f in os.scandir(f'models_eligibility_trace/{BOARD_SIZE}x{BOARD_SIZE}-{LAMBDA_AGENT}-{LAMBDA_VALUE}/')\n",
    "        if f.is_dir()\n",
    "    ])[-1]\n",
    "    agent.load_weights(last_model_trained+f\"/agent\")\n",
    "    value.load_weights(last_model_trained+f\"/value\")\n",
    "    print(\"loaded\")\n",
    "except:\n",
    "    pass"
   ],
   "metadata": {
    "collapsed": false,
    "pycharm": {
     "name": "#%%\n"
    }
   }
  },
  {
   "cell_type": "markdown",
   "source": [
    "## Training"
   ],
   "metadata": {
    "collapsed": false,
    "pycharm": {
     "name": "#%% md\n"
    }
   }
  },
  {
   "cell_type": "code",
   "execution_count": 239,
   "outputs": [],
   "source": [
    "env_ = NumpyEnvironment(1000, BOARD_SIZE)\n",
    "env_.FRUIT_REWARD = .5\n",
    "env_.ATE_HIMSELF_REWARD = .2\n",
    "env_.WIN_REWARD = 1.\n",
    "env_.STEP_REWARD = 0.\n",
    "\n",
    "GAMMA = .99\n",
    "\n",
    "ITERATIONS = 10000\n",
    "EPSILON = 0.05"
   ],
   "metadata": {
    "collapsed": false,
    "pycharm": {
     "name": "#%%\n"
    }
   }
  },
  {
   "cell_type": "code",
   "execution_count": 240,
   "metadata": {
    "pycharm": {
     "name": "#%%\n"
    }
   },
   "outputs": [],
   "source": [
    "optimizer_value = K.optimizers.Adam(1e-3)\n",
    "optimizer_agent = K.optimizers.Adam(1e-5)"
   ]
  },
  {
   "cell_type": "code",
   "execution_count": 242,
   "outputs": [],
   "source": [
    "avg_rewards = {}"
   ],
   "metadata": {
    "collapsed": false,
    "pycharm": {
     "name": "#%%\n"
    }
   }
  },
  {
   "cell_type": "code",
   "execution_count": 235,
   "outputs": [
    {
     "name": "stdout",
     "output_type": "stream",
     "text": [
      "loaded\n"
     ]
    }
   ],
   "source": [
    "try :\n",
    "    import json\n",
    "    with open(f\"models_eligibility_trace_fitting/trend_{BOARD_SIZE}x{BOARD_SIZE}.txt\", \"r\") as file:\n",
    "        t = json.load(file)\n",
    "    print(\"loaded\")\n",
    "except:\n",
    "    pass"
   ],
   "metadata": {
    "collapsed": false,
    "pycharm": {
     "name": "#%%\n"
    }
   }
  },
  {
   "cell_type": "code",
   "execution_count": 243,
   "metadata": {
    "pycharm": {
     "name": "#%%\n"
    }
   },
   "outputs": [
    {
     "name": "stderr",
     "output_type": "stream",
     "text": [
      "100%|██████████| 10000/10000 [11:10<00:00, 14.92it/s]\n",
      "100%|██████████| 10000/10000 [11:06<00:00, 15.00it/s]\n",
      "100%|██████████| 10000/10000 [11:12<00:00, 14.88it/s]\n",
      "100%|██████████| 10000/10000 [10:44<00:00, 15.51it/s]\n"
     ]
    }
   ],
   "source": [
    "for LAMBDA_VALUE, LAMBDA_AGENT in [(0.01, 0.01), (0.1, 0.1), (0.5, 0.5), (0.9,0.9)]:\n",
    "    agent, value = get_models()\n",
    "    I = 1\n",
    "    eligibility_trace_agent = [tf.zeros_like(layer) for layer in agent.trainable_weights]\n",
    "    eligibility_trace_value = [tf.zeros_like(layer) for layer in value.trainable_weights]\n",
    "    for iterations in trange(ITERATIONS):\n",
    "        state = env_.to_state()\n",
    "\n",
    "        with tf.GradientTape(persistent=True) as tape:\n",
    "            # calculate distributions of actions\n",
    "            original_probs = agent(\n",
    "                state\n",
    "            )\n",
    "            # remove actions that are not available\n",
    "            probs = re_normalize_possible_actions(\n",
    "                state,\n",
    "                original_probs + EPSILON\n",
    "            )\n",
    "            # sample actions\n",
    "            actions = tf.random.categorical(tf.math.log(tf.stop_gradient(probs)), 1, dtype=tf.int32)\n",
    "\n",
    "            # MDP update\n",
    "            # print(\"start move\")\n",
    "            rewards = env_.move(actions)\n",
    "            # print(\"end move\")\n",
    "            new_state = env_.to_state()\n",
    "\n",
    "            # TD error\n",
    "            value_state = value(state)\n",
    "            td_error = tf.stop_gradient((rewards + GAMMA * value(new_state, training=False)) - value_state) * -1  # to do gradient ascend\n",
    "\n",
    "            # calculate the loss for both value and agent\n",
    "            actions_indexes = tf.concat((tf.range(actions.shape[0])[..., None], actions), axis=-1)\n",
    "\n",
    "            # maybe introduce eligibility trace to simulate n-step td, to have longer dependencies\n",
    "            loss_agent = tf.stop_gradient(td_error) * tf.math.log(1e-10 + tf.gather_nd(probs, actions_indexes))[...,None]\n",
    "            loss_value = tf.stop_gradient(td_error) * value_state\n",
    "\n",
    "            loss_agent = tf.reduce_mean(loss_agent)\n",
    "            loss_value = tf.reduce_mean(loss_value)\n",
    "\n",
    "        # calculate gradient\n",
    "        gradient_agent = tape.gradient(loss_agent, agent.trainable_weights)\n",
    "        gradient_value = tape.gradient(loss_value, value.trainable_weights)\n",
    "\n",
    "        if f\"{LAMBDA_AGENT}-{LAMBDA_VALUE}\" not in avg_rewards.keys():\n",
    "            avg_rewards[f\"{LAMBDA_AGENT}-{LAMBDA_VALUE}\"] = []\n",
    "\n",
    "        avg_rewards[f\"{LAMBDA_AGENT}-{LAMBDA_VALUE}\"].append(tf.reduce_mean(rewards))\n",
    "\n",
    "        # update neural nets weights\n",
    "        eligibility_trace_agent = [GAMMA * LAMBDA_AGENT * layer + I * gradient for layer, gradient in zip(eligibility_trace_agent, gradient_agent)]\n",
    "        eligibility_trace_value = [GAMMA * LAMBDA_VALUE * layer + I * gradient for layer, gradient in zip(eligibility_trace_value, gradient_value)]\n",
    "        optimizer_agent.apply_gradients(zip(eligibility_trace_agent, agent.trainable_weights))\n",
    "        optimizer_value.apply_gradients(zip(eligibility_trace_value, value.trainable_weights))\n",
    "\n",
    "        #I = GAMMA * I\n",
    "\n",
    "        if iterations % 1000 == 0:\n",
    "            now = datetime.now().strftime(\"%Y-%m-%d_%H-%M-%S\")\n",
    "            agent.save_weights(f\"models_eligibility_trace/{BOARD_SIZE}x{BOARD_SIZE}-{LAMBDA_AGENT}-{LAMBDA_VALUE}/{now}/agent\")\n",
    "            value.save_weights(f\"models_eligibility_trace/{BOARD_SIZE}x{BOARD_SIZE}-{LAMBDA_AGENT}-{LAMBDA_VALUE}/{now}/value\")\n"
   ]
  },
  {
   "cell_type": "code",
   "execution_count": 244,
   "outputs": [],
   "source": [
    "import json\n",
    "with open(f\"models_eligibility_trace_fitting/trend_{BOARD_SIZE}x{BOARD_SIZE}.txt\", \"w+\") as file:\n",
    "    avg_rewards = {k:np.array(v).tolist() for k, v in avg_rewards.items()}\n",
    "    json.dump(avg_rewards, file)"
   ],
   "metadata": {
    "collapsed": false,
    "pycharm": {
     "name": "#%%\n"
    }
   }
  },
  {
   "cell_type": "markdown",
   "source": [
    "### Random policy reward"
   ],
   "metadata": {
    "collapsed": false,
    "pycharm": {
     "name": "#%% md\n"
    }
   }
  },
  {
   "cell_type": "code",
   "execution_count": 245,
   "outputs": [
    {
     "name": "stderr",
     "output_type": "stream",
     "text": [
      "100%|██████████| 100/100 [00:01<00:00, 79.02it/s]\n"
     ]
    }
   ],
   "source": [
    "random_env_ = NumpyEnvironment(1000, BOARD_SIZE)\n",
    "random_env_.FRUIT_REWARD = .5\n",
    "random_env_.ATE_HIMSELF_REWARD = .2\n",
    "random_env_.WIN_REWARD = 1.\n",
    "random_env_.STEP_REWARD = 0.\n",
    "random_rewards = []\n",
    "\n",
    "for _ in trange(100):\n",
    "    state = random_env_.to_state()\n",
    "    probs = re_normalize_possible_actions(\n",
    "        state,\n",
    "        tf.repeat([[.25]*4],1000, axis=0)\n",
    "    )\n",
    "    #sample actions\n",
    "    actions =  tf.random.categorical(tf.math.log(probs), 1, dtype=tf.int32)\n",
    "\n",
    "    # MDP update\n",
    "    rewards = random_env_.move(actions)\n",
    "    random_rewards.append(tf.reduce_mean(rewards))"
   ],
   "metadata": {
    "collapsed": false,
    "pycharm": {
     "name": "#%%\n"
    }
   }
  },
  {
   "cell_type": "markdown",
   "source": [
    "## Training evaluation"
   ],
   "metadata": {
    "collapsed": false,
    "pycharm": {
     "name": "#%% md\n"
    }
   }
  },
  {
   "cell_type": "code",
   "execution_count": 246,
   "outputs": [
    {
     "data": {
      "text/plain": "<matplotlib.legend.Legend at 0x4311c8b20>"
     },
     "execution_count": 246,
     "metadata": {},
     "output_type": "execute_result"
    },
    {
     "data": {
      "text/plain": "<Figure size 640x480 with 1 Axes>",
      "image/png": "[encoded data removed]"
     },
     "metadata": {},
     "output_type": "display_data"
    }
   ],
   "source": [
    "%matplotlib inline\n",
    "\n",
    "CHUNK_SIZE = 100\n",
    "N = min([len(el)//CHUNK_SIZE*CHUNK_SIZE for el in avg_rewards.values()])\n",
    "x = np.arange(0,N//CHUNK_SIZE)*CHUNK_SIZE\n",
    "plt.plot(x, np.array(random_rewards).mean(axis=-1).repeat(N//CHUNK_SIZE), marker=\"o\")\n",
    "for trend in avg_rewards.values():\n",
    "    points = np.array(trend)[:N].reshape((-1, CHUNK_SIZE)).mean(axis=-1)\n",
    "    plt.plot(x, points, marker=\".\")\n",
    "_ = plt.xlabel(\"iterations\")\n",
    "_ = plt.ylabel(\"avg reward\")\n",
    "plt.legend([\"random\"] + list(avg_rewards.keys()))"
   ],
   "metadata": {
    "collapsed": false,
    "pycharm": {
     "name": "#%%\n"
    }
   }
  }
 ],
 "metadata": {
  "kernelspec": {
   "display_name": "Python 3 (ipykernel)",
   "language": "python",
   "name": "python3"
  },
  "language_info": {
   "codemirror_mode": {
    "name": "ipython",
    "version": 3
   },
   "file_extension": ".py",
   "mimetype": "text/x-python",
   "name": "python",
   "nbconvert_exporter": "python",
   "pygments_lexer": "ipython3",
   "version": "3.9.13"
  }
 },
 "nbformat": 4,
 "nbformat_minor": 1
}