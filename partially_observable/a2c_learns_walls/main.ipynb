{
 "cells": [
  {
   "cell_type": "markdown",
   "metadata": {},
   "source": [
    "# Snake"
   ]
  },
  {
   "cell_type": "code",
   "execution_count": 8,
   "metadata": {
    "collapsed": true
   },
   "outputs": [],
   "source": [
    "from environments import *\n",
    "import numpy as np\n",
    "from IPython.display import clear_output\n",
    "from  tqdm import trange\n",
    "import matplotlib.pyplot as plt\n",
    "import os\n",
    "from models import *\n",
    "import json\n",
    "import random\n",
    "random.seed(0)\n",
    "np.random.seed(0)\n",
    "tf.random.set_seed(0)"
   ]
  },
  {
   "cell_type": "code",
   "execution_count": 9,
   "outputs": [],
   "source": [
    "LOAD_FROM_MEMORY = True"
   ],
   "metadata": {
    "collapsed": false
   }
  },
  {
   "cell_type": "markdown",
   "metadata": {},
   "source": [
    "## Environment definition"
   ]
  },
  {
   "cell_type": "code",
   "execution_count": 15,
   "outputs": [
    {
     "data": {
      "text/plain": "<Figure size 1000x300 with 5 Axes>",
      "image/png": "[encoded data removed]"
     },
     "metadata": {},
     "output_type": "display_data"
    }
   ],
   "source": [
    "%matplotlib inline\n",
    "def get_env(n=1000):\n",
    "    e = OriginalSnakeEnvironment(n, 10, 1)\n",
    "    return e\n",
    "env_ = get_env()\n",
    "GAMMA = .9\n",
    "ITERATIONS = 25000\n",
    "EPSILON = 0.03\n",
    "LAMBDA_VALUE = 0.\n",
    "LAMBDA_AGENT = 0.\n",
    "#  ALPHA = 0.1\n",
    "\n",
    "fig,axs=plt.subplots(1,min(len(env_.boards), 5), figsize=(10,3))\n",
    "for ax, board in zip(axs, env_.boards):\n",
    "    ax.get_yaxis().set_visible(False)\n",
    "    ax.get_xaxis().set_visible(False)\n",
    "    ax.imshow(board, origin=\"lower\")"
   ],
   "metadata": {
    "collapsed": false
   }
  },
  {
   "cell_type": "markdown",
   "source": [
    "## Model"
   ],
   "metadata": {
    "collapsed": false
   }
  },
  {
   "cell_type": "code",
   "execution_count": 16,
   "outputs": [],
   "source": [
    "MODELS_PREFIX = f\"models/{type(env_).__name__}/{env_.board_size}x{env_.board_size}-{env_.mask_size}\"\n",
    "os.makedirs(MODELS_PREFIX, exist_ok=True)"
   ],
   "metadata": {
    "collapsed": false
   }
  },
  {
   "cell_type": "code",
   "execution_count": 17,
   "outputs": [
    {
     "name": "stdout",
     "output_type": "stream",
     "text": [
      "loaded 1\n",
      "loaded 2\n"
     ]
    }
   ],
   "source": [
    "agent, value, avg_rewards = load_models(env_, folder_name=MODELS_PREFIX if LOAD_FROM_MEMORY else None)"
   ],
   "metadata": {
    "collapsed": false
   }
  },
  {
   "cell_type": "markdown",
   "source": [
    "## Training"
   ],
   "metadata": {
    "collapsed": false
   }
  },
  {
   "cell_type": "code",
   "execution_count": 36,
   "outputs": [],
   "source": [
    "avg_td_error = []"
   ],
   "metadata": {
    "collapsed": false
   }
  },
  {
   "cell_type": "code",
   "execution_count": 37,
   "outputs": [],
   "source": [
    "optimizer_value = tf.keras.optimizers.legacy.Adam(1e-4)\n",
    "optimizer_agent = tf.keras.optimizers.legacy.Adam(1e-5)"
   ],
   "metadata": {
    "collapsed": false
   }
  },
  {
   "cell_type": "code",
   "execution_count": 38,
   "outputs": [],
   "source": [
    "eligibility_trace_agent = [tf.zeros_like(layer) for layer in agent.trainable_weights]\n",
    "eligibility_trace_value = [tf.zeros_like(layer) for layer in value.trainable_weights]"
   ],
   "metadata": {
    "collapsed": false
   }
  },
  {
   "cell_type": "code",
   "execution_count": 39,
   "outputs": [
    {
     "name": "stderr",
     "output_type": "stream",
     "text": [
      " 89%|████████▉ | 22199/25000 [11:08<01:24, 33.18it/s]\n"
     ]
    },
    {
     "ename": "ValueError",
     "evalue": "setting an array element with a sequence.",
     "output_type": "error",
     "traceback": [
      "\u001B[0;31m---------------------------------------------------------------------------\u001B[0m",
      "\u001B[0;31mKeyboardInterrupt\u001B[0m                         Traceback (most recent call last)",
      "File \u001B[0;32m/opt/homebrew/Caskroom/miniforge/base/envs/ml-apple-metal-3-10/lib/python3.10/site-packages/tensorflow/python/framework/ops.py:1060\u001B[0m, in \u001B[0;36m_EagerTensorBase.__float__\u001B[0;34m(self)\u001B[0m\n\u001B[1;32m   1059\u001B[0m \u001B[38;5;28;01mdef\u001B[39;00m \u001B[38;5;21m__float__\u001B[39m(\u001B[38;5;28mself\u001B[39m):\n\u001B[0;32m-> 1060\u001B[0m   \u001B[38;5;28;01mreturn\u001B[39;00m \u001B[38;5;28mfloat\u001B[39m(\u001B[38;5;28;43mself\u001B[39;49m\u001B[38;5;241;43m.\u001B[39;49m\u001B[43m_numpy\u001B[49m\u001B[43m(\u001B[49m\u001B[43m)\u001B[49m)\n",
      "File \u001B[0;32m/opt/homebrew/Caskroom/miniforge/base/envs/ml-apple-metal-3-10/lib/python3.10/site-packages/tensorflow/python/framework/ops.py:1121\u001B[0m, in \u001B[0;36m_EagerTensorBase._numpy\u001B[0;34m(self)\u001B[0m\n\u001B[1;32m   1120\u001B[0m \u001B[38;5;28;01mtry\u001B[39;00m:\n\u001B[0;32m-> 1121\u001B[0m   \u001B[38;5;28;01mreturn\u001B[39;00m \u001B[38;5;28;43mself\u001B[39;49m\u001B[38;5;241;43m.\u001B[39;49m\u001B[43m_numpy_internal\u001B[49m\u001B[43m(\u001B[49m\u001B[43m)\u001B[49m\n\u001B[1;32m   1122\u001B[0m \u001B[38;5;28;01mexcept\u001B[39;00m core\u001B[38;5;241m.\u001B[39m_NotOkStatusException \u001B[38;5;28;01mas\u001B[39;00m e:  \u001B[38;5;66;03m# pylint: disable=protected-access\u001B[39;00m\n",
      "\u001B[0;31mKeyboardInterrupt\u001B[0m: ",
      "\nThe above exception was the direct cause of the following exception:\n",
      "\u001B[0;31mValueError\u001B[0m                                Traceback (most recent call last)",
      "Cell \u001B[0;32mIn[39], line 51\u001B[0m\n\u001B[1;32m     49\u001B[0m \u001B[38;5;66;03m# plot\u001B[39;00m\n\u001B[1;32m     50\u001B[0m points_r \u001B[38;5;241m=\u001B[39m np\u001B[38;5;241m.\u001B[39marray(avg_rewards)\u001B[38;5;241m.\u001B[39mreshape((\u001B[38;5;241m-\u001B[39m\u001B[38;5;241m1\u001B[39m, N))\u001B[38;5;241m.\u001B[39mmean(axis\u001B[38;5;241m=\u001B[39m\u001B[38;5;241m-\u001B[39m\u001B[38;5;241m1\u001B[39m)\n\u001B[0;32m---> 51\u001B[0m points_t \u001B[38;5;241m=\u001B[39m \u001B[43mnp\u001B[49m\u001B[38;5;241;43m.\u001B[39;49m\u001B[43marray\u001B[49m\u001B[43m(\u001B[49m\u001B[43mavg_td_error\u001B[49m\u001B[43m)\u001B[49m\u001B[38;5;241m.\u001B[39mreshape((\u001B[38;5;241m-\u001B[39m\u001B[38;5;241m1\u001B[39m, N))\u001B[38;5;241m.\u001B[39mmean(axis\u001B[38;5;241m=\u001B[39m\u001B[38;5;241m-\u001B[39m\u001B[38;5;241m1\u001B[39m) \u001B[38;5;241m*\u001B[39m \u001B[38;5;241m-\u001B[39m\u001B[38;5;241m1\u001B[39m\n\u001B[1;32m     52\u001B[0m fig, axs \u001B[38;5;241m=\u001B[39m plt\u001B[38;5;241m.\u001B[39msubplots(\u001B[38;5;241m1\u001B[39m,\u001B[38;5;241m2\u001B[39m, figsize\u001B[38;5;241m=\u001B[39m(\u001B[38;5;241m10\u001B[39m,\u001B[38;5;241m3\u001B[39m))\n\u001B[1;32m     53\u001B[0m axs[\u001B[38;5;241m0\u001B[39m]\u001B[38;5;241m.\u001B[39mplot(points_r, marker\u001B[38;5;241m=\u001B[39m\u001B[38;5;124m\"\u001B[39m\u001B[38;5;124m.\u001B[39m\u001B[38;5;124m\"\u001B[39m)\n",
      "\u001B[0;31mValueError\u001B[0m: setting an array element with a sequence."
     ]
    }
   ],
   "source": [
    "%matplotlib inline\n",
    "next_reset = 2\n",
    "for iteration in trange(ITERATIONS):\n",
    "    state = env_.to_state()\n",
    "    with tf.GradientTape(persistent=True) as tape:\n",
    "        # PI(a|s)\n",
    "        probs = agent(state)\n",
    "        # a ~ PI(a|s)\n",
    "        actions = tf.random.categorical(tf.math.log(tf.stop_gradient(probs)), 1, dtype=tf.int32)\n",
    "        # r ~ p(s,r|s,a)\n",
    "        rewards = env_.move(actions)\n",
    "        new_state = tf.constant(env_.to_state())\n",
    "\n",
    "        value_state = value(state)\n",
    "        new_value_state = value(new_state)\n",
    "        # calculate advantage function\n",
    "        td_error = tf.stop_gradient((rewards + GAMMA * new_value_state) - value_state) * -1\n",
    "\n",
    "        # gather sampled actions and scaled by the advantage (equivalent to sparse categorical crossentropy)\n",
    "        actions_indexes = tf.concat((tf.range(actions.shape[0])[..., None], actions), axis=-1)\n",
    "        loss_agent = tf.math.log(tf.gather_nd(probs, actions_indexes))[..., None] * tf.stop_gradient(td_error)\n",
    "        loss_value = tf.stop_gradient(td_error) * value_state\n",
    "\n",
    "        loss_agent = tf.reduce_mean(loss_agent)\n",
    "        loss_value = tf.reduce_mean(loss_value)\n",
    "\n",
    "    avg_td_error.append(tf.reduce_mean(td_error))\n",
    "    avg_rewards.append(np.mean(rewards))\n",
    "\n",
    "    gradient_agent = tape.gradient(loss_agent, agent.trainable_weights)\n",
    "    gradient_value = tape.gradient(loss_value, value.trainable_weights)\n",
    "\n",
    "    if LAMBDA_AGENT > 1e-4 or LAMBDA_VALUE > 1e-4:\n",
    "        eligibility_trace_agent = [GAMMA * LAMBDA_AGENT * layer + gradient for layer, gradient in\n",
    "                                   zip(eligibility_trace_agent, gradient_agent)]\n",
    "        eligibility_trace_value = [GAMMA * LAMBDA_VALUE * layer + gradient for layer, gradient in\n",
    "                                   zip(eligibility_trace_value, gradient_value)]\n",
    "        optimizer_value.apply_gradients(zip(eligibility_trace_value, value.trainable_weights))\n",
    "        optimizer_agent.apply_gradients(zip(eligibility_trace_agent, agent.trainable_weights))\n",
    "    else:\n",
    "        optimizer_value.apply_gradients(zip(gradient_value, value.trainable_weights))\n",
    "        optimizer_agent.apply_gradients(zip(gradient_agent, agent.trainable_weights))\n",
    "\n",
    "    # every N iterations, plot the avg reward of each chunk of 100 iterations, and save the models\n",
    "    N = 100\n",
    "    if len(avg_rewards) % N == 0 and len(avg_rewards) > 0:\n",
    "        # clear output\n",
    "        clear_output(wait=True)\n",
    "        # plot\n",
    "        points_r = np.array(avg_rewards).reshape((-1, N)).mean(axis=-1)\n",
    "        points_t = np.array(avg_td_error).reshape((-1, N)).mean(axis=-1) * -1\n",
    "        fig, axs = plt.subplots(1,2, figsize=(10,3))\n",
    "        axs[0].plot(points_r, marker=\".\")\n",
    "        axs[0].set_xlabel(\"iterations\")\n",
    "        axs[0].set_ylabel(\"avg reward\")\n",
    "        axs[1].plot(points_t, marker=\".\")\n",
    "        axs[1].set_xlabel(\"iterations\")\n",
    "        axs[1].set_ylabel(\"avg td error\")\n",
    "\n",
    "        plt.show()\n",
    "        # save\n",
    "        with open(f\"{MODELS_PREFIX}/training.txt\", \"w+\") as file:\n",
    "            json.dump(np.array(avg_rewards).tolist(), file)\n",
    "        agent.save_weights(f\"{MODELS_PREFIX}/agent\")\n",
    "        value.save_weights(f\"{MODELS_PREFIX}/value\")"
   ],
   "metadata": {
    "collapsed": false
   }
  },
  {
   "cell_type": "markdown",
   "source": [
    " ### Random policy reward"
   ],
   "metadata": {
    "collapsed": false
   }
  },
  {
   "cell_type": "code",
   "execution_count": 18,
   "outputs": [
    {
     "name": "stderr",
     "output_type": "stream",
     "text": [
      "100%|██████████| 1000/1000 [00:02<00:00, 350.51it/s]\n"
     ]
    }
   ],
   "source": [
    "random_env = get_env(100)\n",
    "random_rewards = []\n",
    "\n",
    "for _ in trange(1000):\n",
    "    probs = tf.convert_to_tensor([[.25]*4]*random_env.n_boards)\n",
    "    #sample actions\n",
    "    actions =  tf.random.categorical(tf.math.log(probs), 1, dtype=tf.int32)\n",
    "    # MDP update\n",
    "    rewards = random_env.move(actions)\n",
    "    random_rewards.append(np.mean(rewards))"
   ],
   "metadata": {
    "collapsed": false
   }
  },
  {
   "cell_type": "markdown",
   "source": [
    "## Training evaluation"
   ],
   "metadata": {
    "collapsed": false
   }
  },
  {
   "cell_type": "code",
   "execution_count": 19,
   "outputs": [
    {
     "data": {
      "text/plain": "<matplotlib.legend.Legend at 0x178aaea70>"
     },
     "execution_count": 19,
     "metadata": {},
     "output_type": "execute_result"
    },
    {
     "data": {
      "text/plain": "<Figure size 640x480 with 1 Axes>",
      "image/png": "[encoded data removed]"
     },
     "metadata": {},
     "output_type": "display_data"
    }
   ],
   "source": [
    "%matplotlib inline\n",
    "import matplotlib.pyplot as plt\n",
    "CHUNK_SIZE = 100\n",
    "N = len(avg_rewards)//CHUNK_SIZE*CHUNK_SIZE\n",
    "x = np.linspace(0,CHUNK_SIZE*N, N//CHUNK_SIZE)\n",
    "plt.plot(x, np.array(random_rewards[700:]).mean(axis=-1).repeat(N//CHUNK_SIZE), marker=\"o\")\n",
    "points = np.array(avg_rewards)[:N].reshape((-1, CHUNK_SIZE)).mean(axis=-1)\n",
    "plt.plot(x, points, marker=\".\")\n",
    "_ = plt.xlabel(\"iterations\")\n",
    "_ = plt.ylabel(\"avg reward\")\n",
    "plt.legend([\"random\", \"policy\"])"
   ],
   "metadata": {
    "collapsed": false
   }
  }
 ],
 "metadata": {
  "kernelspec": {
   "display_name": "Python 3 (ipykernel)",
   "language": "python",
   "name": "python3"
  },
  "language_info": {
   "codemirror_mode": {
    "name": "ipython",
    "version": 3
   },
   "file_extension": ".py",
   "mimetype": "text/x-python",
   "name": "python",
   "nbconvert_exporter": "python",
   "pygments_lexer": "ipython3",
   "version": "3.9.13"
  }
 },
 "nbformat": 4,
 "nbformat_minor": 1
}
