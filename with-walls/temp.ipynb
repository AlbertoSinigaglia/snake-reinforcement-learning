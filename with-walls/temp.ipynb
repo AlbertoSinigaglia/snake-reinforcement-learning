{
 "cells": [
  {
   "cell_type": "code",
   "execution_count": 1,
   "metadata": {
    "collapsed": true,
    "pycharm": {
     "name": "#%%\n"
    }
   },
   "outputs": [
    {
     "name": "stdout",
     "output_type": "stream",
     "text": [
      "Metal device set to: Apple M1 Max\n"
     ]
    },
    {
     "name": "stderr",
     "output_type": "stream",
     "text": [
      "2022-12-29 23:06:59.080028: I tensorflow/core/common_runtime/pluggable_device/pluggable_device_factory.cc:305] Could not identify NUMA node of platform GPU ID 0, defaulting to 0. Your kernel may not have been built with NUMA support.\n",
      "2022-12-29 23:06:59.080143: I tensorflow/core/common_runtime/pluggable_device/pluggable_device_factory.cc:271] Created TensorFlow device (/job:localhost/replica:0/task:0/device:GPU:0 with 0 MB memory) -> physical PluggableDevice (device: 0, name: METAL, pci bus id: <undefined>)\n"
     ]
    }
   ],
   "source": [
    "from helpers import *\n",
    "from environments import *\n",
    "import tensorflow as tf\n",
    "import matplotlib.pyplot as plt\n",
    "import keras.api._v2.keras as K\n",
    "input_ = K.layers.Input(shape=(BaseEnvironment.BOARD_SIZE, BaseEnvironment.BOARD_SIZE, 5))\n",
    "x = K.layers.Conv2D(64, (3, 3), activation=\"linear\", use_bias=False)(input_)\n",
    "x = K.layers.BatchNormalization()(x)\n",
    "x = K.layers.Activation(tf.nn.leaky_relu)(x)\n",
    "\n",
    "x = K.layers.Conv2D(64, (3, 3), activation=\"linear\", use_bias=False)(x)\n",
    "x = K.layers.BatchNormalization()(x)\n",
    "x = K.layers.Activation(tf.nn.leaky_relu)(x)\n",
    "\n",
    "x = K.layers.Conv2D(64, (3, 3), activation=\"linear\", use_bias=False)(x)\n",
    "x = K.layers.BatchNormalization()(x)\n",
    "x = K.layers.Activation(tf.nn.leaky_relu)(x)\n",
    "\n",
    "x = K.layers.Conv2D(64, (3, 3), activation=\"linear\", use_bias=False)(x)\n",
    "x = K.layers.BatchNormalization()(x)\n",
    "x = K.layers.Activation(tf.nn.leaky_relu)(x)\n",
    "\n",
    "x = K.layers.Conv2D(64, (3, 3), activation=\"linear\", use_bias=False)(x)\n",
    "x = K.layers.BatchNormalization()(x)\n",
    "x = K.layers.Activation(tf.nn.leaky_relu)(x)\n",
    "\n",
    "x = K.layers.Conv2D(8, (3, 3), activation=\"linear\", use_bias=False)(x)\n",
    "x = K.layers.BatchNormalization()(x)\n",
    "x = K.layers.Activation(tf.nn.leaky_relu)(x)\n",
    "\n",
    "encoder = K.Model(inputs=[input_], outputs=[x])\n",
    "policy = K.layers.Flatten()(encoder.output)\n",
    "policy = K.layers.Dense(128, activation=tf.nn.leaky_relu)(policy)\n",
    "policy = K.layers.Dense(128, activation=tf.nn.leaky_relu)(policy)\n",
    "policy = K.layers.Dense(4, activation=tf.nn.softmax)(policy)\n",
    "agent = K.models.Model(inputs=encoder.output, outputs=policy)\n",
    "\n",
    "vf = K.layers.Flatten()(encoder.output)\n",
    "vf = K.layers.Dense(128, activation=tf.nn.leaky_relu)(vf)\n",
    "vf = K.layers.Dense(128, activation=tf.nn.leaky_relu)(vf)\n",
    "vf = K.layers.Dense(4, activation=tf.nn.softmax)(vf)\n",
    "value = K.models.Model(inputs=encoder.output, outputs=vf)\n",
    "\n",
    "\n",
    "dec = K.layers.SpatialDropout2D(.4)(encoder.output)\n",
    "dec = K.layers.Conv2DTranspose(32, 5, activation=tf.nn.leaky_relu)(dec)\n",
    "dec = K.layers.SpatialDropout2D(.4)(dec)\n",
    "dec = K.layers.Conv2DTranspose(32, 5, activation=tf.nn.leaky_relu)(dec)\n",
    "dec = K.layers.SpatialDropout2D(.4)(dec)\n",
    "dec = K.layers.Conv2DTranspose(5, 5, activation=tf.nn.softmax)(dec)\n",
    "decoder = K.models.Model(inputs=encoder.output, outputs=dec)"
   ]
  },
  {
   "cell_type": "code",
   "execution_count": 75,
   "outputs": [],
   "source": [
    "def re_normalize_possible_actions_process_npi(state, probs, mask_with=0.):\n",
    "    global walls, heads_up\n",
    "    boards = tf.argmax(state, axis=-1)\n",
    "    heads = np.argwhere(boards == BaseEnvironment.HEAD)\n",
    "    walls = np.argwhere(boards == BaseEnvironment.WALL)\n",
    "    mask = np.ones_like(probs)\n",
    "\n",
    "    heads_up = np.copy(heads)\n",
    "    heads_down = np.copy(heads)\n",
    "    heads_left = np.copy(heads)\n",
    "    heads_right = np.copy(heads)\n",
    "\n",
    "    heads_up[:, 1] += 1\n",
    "    heads_down[:, 1] -= 1\n",
    "    heads_left[:, 2] += 1\n",
    "    heads_right[:, 2] -= 1\n",
    "\n",
    "    inds = heads_up == walls[:, None]\n",
    "    row_sums = inds.sum(axis = 2)\n",
    "    i, j = np.where(row_sums == 3)\n",
    "    pos = np.ones(walls.shape[0], dtype = 'int64') * -1\n",
    "    pos[j] = i\n",
    "    idx_up = pos[np.argwhere(pos>=0)].reshape((-1,))\n",
    "\n",
    "    inds = heads_down == walls[:, None]\n",
    "    row_sums = inds.sum(axis = 2)\n",
    "    i, j = np.where(row_sums == 3)\n",
    "    pos = np.ones(walls.shape[0], dtype = 'int64') * -1\n",
    "    pos[j] = i\n",
    "    idx_down = pos[np.argwhere(pos>=0)].reshape((-1,))\n",
    "\n",
    "    inds = heads_left == walls[:, None]\n",
    "    row_sums = inds.sum(axis = 2)\n",
    "    i, j = np.where(row_sums == 3)\n",
    "    pos = np.ones(walls.shape[0], dtype = 'int64') * -1\n",
    "    pos[j] = i\n",
    "    idx_left = pos[np.argwhere(pos>=0)].reshape((-1,))\n",
    "\n",
    "    inds = heads_right == walls[:, None]\n",
    "    row_sums = inds.sum(axis = 2)\n",
    "    i, j = np.where(row_sums == 3)\n",
    "    pos = np.ones(walls.shape[0], dtype = 'int64') * -1\n",
    "    pos[j] = i\n",
    "    idx_right = pos[np.argwhere(pos>=0)].reshape((-1,))\n",
    "\n",
    "    idx_up = walls[idx_up][:,0]\n",
    "    idx_down = walls[idx_down][:,0]\n",
    "    idx_right = walls[idx_right][:,0]\n",
    "    idx_left = walls[idx_left][:,0]\n",
    "\n",
    "    if np.size(idx_up): mask[idx_up, BaseEnvironment.UP] = mask_with\n",
    "    if np.size(idx_down): mask[idx_down, BaseEnvironment.DOWN] = mask_with\n",
    "    if np.size(idx_right): mask[idx_right, BaseEnvironment.LEFT] = mask_with\n",
    "    if np.size(idx_left): mask[idx_left, BaseEnvironment.RIGHT] = mask_with\n",
    "\n",
    "    return tf.linalg.normalize(probs * mask, ord=1, axis=-1)[0]"
   ],
   "metadata": {
    "collapsed": false,
    "pycharm": {
     "name": "#%%\n"
    }
   }
  },
  {
   "cell_type": "code",
   "execution_count": 63,
   "outputs": [],
   "source": [
    "%matplotlib inline\n",
    "np.random.seed(7)\n",
    "test_env = NumpyEnvironment(2)"
   ],
   "metadata": {
    "collapsed": false,
    "pycharm": {
     "name": "#%%\n"
    }
   }
  },
  {
   "cell_type": "code",
   "execution_count": 64,
   "outputs": [
    {
     "data": {
      "text/plain": "<Figure size 640x480 with 2 Axes>",
      "image/png": "[encoded data removed]"
     },
     "metadata": {},
     "output_type": "display_data"
    }
   ],
   "source": [
    "fig, axs = plt.subplots(1,2)\n",
    "images = []\n",
    "for b, ax in zip(test_env.boards, axs.flatten()):\n",
    "    images.append(ax.imshow(b, origin=\"lower\"))"
   ],
   "metadata": {
    "collapsed": false,
    "pycharm": {
     "name": "#%%\n"
    }
   }
  },
  {
   "cell_type": "code",
   "execution_count": 8,
   "outputs": [
    {
     "name": "stdout",
     "output_type": "stream",
     "text": [
      "yep\n"
     ]
    },
    {
     "data": {
      "text/plain": "<Figure size 640x480 with 2 Axes>",
      "image/png": "[encoded data removed]"
     },
     "metadata": {},
     "output_type": "display_data"
    }
   ],
   "source": [
    "state = test_env.to_state()\n",
    "compressed_state = encoder(state)\n",
    "\n",
    "original_probs = agent(\n",
    "    compressed_state\n",
    ")\n",
    "probs = re_normalize_possible_actions_process_npi(\n",
    "    state,\n",
    "    original_probs\n",
    ")\n",
    "actions = tf.random.categorical(tf.math.log(probs),1)\n",
    "test_env.move(actions)\n",
    "fig, axs = plt.subplots(1,2)\n",
    "images = []\n",
    "for b, ax in zip(test_env.boards, axs.flatten()):\n",
    "    images.append(ax.imshow(b, origin=\"lower\"))"
   ],
   "metadata": {
    "collapsed": false,
    "pycharm": {
     "name": "#%%\n"
    }
   }
  },
  {
   "cell_type": "code",
   "execution_count": 12,
   "outputs": [
    {
     "data": {
      "text/plain": "<tf.Tensor: shape=(1, 5), dtype=int64, numpy=array([[2, 0, 3, 0, 2]])>"
     },
     "execution_count": 12,
     "metadata": {},
     "output_type": "execute_result"
    }
   ],
   "source": [
    "tf.random.categorical(tf.math.log([[.25]*4]), 5)"
   ],
   "metadata": {
    "collapsed": false,
    "pycharm": {
     "name": "#%%\n"
    }
   }
  },
  {
   "cell_type": "code",
   "execution_count": 13,
   "outputs": [
    {
     "data": {
      "text/plain": "<tf.Tensor: shape=(2, 1), dtype=int64, numpy=\narray([[4],\n       [4]])>"
     },
     "execution_count": 13,
     "metadata": {},
     "output_type": "execute_result"
    }
   ],
   "source": [
    "actions"
   ],
   "metadata": {
    "collapsed": false,
    "pycharm": {
     "name": "#%%\n"
    }
   }
  },
  {
   "cell_type": "code",
   "execution_count": 14,
   "outputs": [
    {
     "data": {
      "text/plain": "<tf.Tensor: shape=(2, 4), dtype=float32, numpy=\narray([[nan, nan, nan, nan],\n       [nan, nan, nan, nan]], dtype=float32)>"
     },
     "execution_count": 14,
     "metadata": {},
     "output_type": "execute_result"
    }
   ],
   "source": [
    "probs"
   ],
   "metadata": {
    "collapsed": false,
    "pycharm": {
     "name": "#%%\n"
    }
   }
  },
  {
   "cell_type": "code",
   "execution_count": null,
   "outputs": [],
   "source": [],
   "metadata": {
    "collapsed": false,
    "pycharm": {
     "name": "#%%\n"
    }
   }
  }
 ],
 "metadata": {
  "kernelspec": {
   "display_name": "Python 3",
   "language": "python",
   "name": "python3"
  },
  "language_info": {
   "codemirror_mode": {
    "name": "ipython",
    "version": 2
   },
   "file_extension": ".py",
   "mimetype": "text/x-python",
   "name": "python",
   "nbconvert_exporter": "python",
   "pygments_lexer": "ipython2",
   "version": "2.7.6"
  }
 },
 "nbformat": 4,
 "nbformat_minor": 0
}